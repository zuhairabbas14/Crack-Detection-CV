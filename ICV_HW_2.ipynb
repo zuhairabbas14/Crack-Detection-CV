{
  "nbformat": 4,
  "nbformat_minor": 0,
  "metadata": {
    "colab": {
      "name": "ICV HW 2.ipynb",
      "provenance": [],
      "collapsed_sections": []
    },
    "kernelspec": {
      "name": "python3",
      "display_name": "Python 3"
    },
    "accelerator": "GPU"
  },
  "cells": [
    {
      "cell_type": "markdown",
      "metadata": {
        "id": "eUQ5KLEmrsto",
        "colab_type": "text"
      },
      "source": [
        "\n",
        "\n",
        "\n",
        "---\n",
        "\n",
        "\n",
        "**DOWNLOADING & EXTRACTING DATA**\n",
        "\n",
        "\n",
        "---\n",
        "\n",
        "\n"
      ]
    },
    {
      "cell_type": "code",
      "metadata": {
        "id": "hPfubvDrRKQ-",
        "colab_type": "code",
        "colab": {
          "base_uri": "https://localhost:8080/",
          "height": 123
        },
        "outputId": "b3eb05b3-f7f7-413a-9bcb-29021fda01c3"
      },
      "source": [
        "!gdown https://drive.google.com/uc?id=1YmiU2tpawsTS4CojYoqwANf5JwLNUJuJ&export=download\n",
        "!unzip Dataset.zip"
      ],
      "execution_count": 1,
      "outputs": [
        {
          "output_type": "stream",
          "text": [
            "Downloading...\n",
            "From: https://drive.google.com/uc?id=1YmiU2tpawsTS4CojYoqwANf5JwLNUJuJ\n",
            "To: /content/Dataset.zip\n",
            "230MB [00:04, 49.1MB/s]\n",
            "Archive:  Dataset.zip\n",
            "replace Dataset/Negative/00001.jpg? [y]es, [n]o, [A]ll, [N]one, [r]ename: N\n"
          ],
          "name": "stdout"
        }
      ]
    },
    {
      "cell_type": "markdown",
      "metadata": {
        "id": "m1En9ynTr-a1",
        "colab_type": "text"
      },
      "source": [
        "\n",
        "\n",
        "---\n",
        "\n",
        "\n",
        "**IMPORTS**\n",
        "\n",
        "---\n",
        "\n",
        "\n"
      ]
    },
    {
      "cell_type": "code",
      "metadata": {
        "id": "X_m-1mMkRrEs",
        "colab_type": "code",
        "colab": {}
      },
      "source": [
        "import os\n",
        "import glob \n",
        "import torch\n",
        "import shutil\n",
        "import torchvision\n",
        "import numpy as np\n",
        "import pandas as pd\n",
        "import torch.nn as nn\n",
        "import torch.utils.data\n",
        "import torch.optim as optim\n",
        "import torch.nn.functional as F\n",
        "from torchvision import transforms, datasets\n",
        "from sklearn.metrics import f1_score, precision_score, recall_score"
      ],
      "execution_count": 2,
      "outputs": []
    },
    {
      "cell_type": "markdown",
      "metadata": {
        "id": "KRUW_D17sG7L",
        "colab_type": "text"
      },
      "source": [
        "\n",
        "\n",
        "---\n",
        "\n",
        "\n",
        "**DATA LOADING & TRANSFORMATIONS**\n",
        "\n",
        "\n",
        "---\n",
        "\n"
      ]
    },
    {
      "cell_type": "code",
      "metadata": {
        "id": "UK0egWf-VC3-",
        "colab_type": "code",
        "colab": {}
      },
      "source": [
        "transform = transforms.Compose([\n",
        "                    transforms.Grayscale(num_output_channels=3),\n",
        "                    transforms.Resize(28),\n",
        "                    transforms.ToTensor(),\n",
        "                    transforms.Normalize((0.5, 0.5, 0.5), (0.5, 0.5, 0.5))])\n",
        "\n",
        "dataset = datasets.ImageFolder('./Dataset', transform=transform)\n",
        "\n",
        "train, val = torch.utils.data.random_split(dataset,\\\n",
        "                [int(len(dataset)*0.8), len(dataset) - int(len(dataset)*0.8)])\n",
        "\n",
        "trainset = torch.utils.data.DataLoader(train, batch_size=64, shuffle=True)\n",
        "valset = torch.utils.data.DataLoader(val, batch_size=64, shuffle=True)"
      ],
      "execution_count": 3,
      "outputs": []
    },
    {
      "cell_type": "markdown",
      "metadata": {
        "id": "nK4glIFAsN7w",
        "colab_type": "text"
      },
      "source": [
        "\n",
        "\n",
        "---\n",
        "\n",
        "\n",
        "**CNN - MODEL CLASS**\n",
        "\n",
        "\n",
        "---\n",
        "\n"
      ]
    },
    {
      "cell_type": "code",
      "metadata": {
        "id": "chl_N0aERzyA",
        "colab_type": "code",
        "colab": {}
      },
      "source": [
        "def xavier_weights_init(m):\n",
        "    classname = m.__class__.__name__\n",
        "    if classname.find('Conv') != -1:\n",
        "        nn.init.xavier_uniform_(m.weight, gain=np.sqrt(2))\n",
        "        nn.init.constant_(m.bias, 0.1)\n",
        "\n",
        "\n",
        "class Net(nn.Module):\n",
        "\n",
        "    def __init__(self):\n",
        "      super(Net, self).__init__()\n",
        "      self.layer1 = nn.Sequential(\n",
        "          nn.Conv2d(3, 16, kernel_size=5, stride=1, padding=2),\n",
        "          nn.BatchNorm2d(num_features=16, eps=1e-05, momentum=0.1, affine=True, track_running_stats=True),\n",
        "          nn.ReLU(),\n",
        "          nn.MaxPool2d(kernel_size=2, stride=2))\n",
        "      self.layer2 = nn.Sequential(\n",
        "          nn.Conv2d(16, 32, kernel_size=5, stride=1, padding=2),\n",
        "          nn.BatchNorm2d(num_features=32, eps=1e-05, momentum=0.1, affine=True, track_running_stats=True),\n",
        "          nn.ReLU(),\n",
        "          nn.MaxPool2d(kernel_size=2, stride=2))\n",
        "      self.layer3 = nn.Sequential(\n",
        "          nn.Conv2d(32, 64, kernel_size=5, stride=1, padding=2),\n",
        "          nn.BatchNorm2d(num_features=64, eps=1e-05, momentum=0.1, affine=True, track_running_stats=True),\n",
        "          nn.ReLU(),\n",
        "          nn.MaxPool2d(kernel_size=2, stride=2))\n",
        "      self.layer4 = nn.Sequential(\n",
        "          nn.Conv2d(64, 128, kernel_size=5, stride=1, padding=2),\n",
        "          nn.BatchNorm2d(num_features=128, eps=1e-05, momentum=0.1, affine=True, track_running_stats=True),\n",
        "          nn.ReLU(),\n",
        "          nn.MaxPool2d(kernel_size=2, stride=2))\n",
        "      \n",
        "      self.drop_out = nn.Dropout(0.3)\n",
        "      \n",
        "      self.fc1 = nn.Linear(128, 128)\n",
        "      self.fc2 = nn.Linear(128, 64)\n",
        "      self.fc3 = nn.Linear(64, 2)\n",
        "\n",
        "\n",
        "    def forward(self, x):\n",
        "      out = self.layer1(x)\n",
        "      out = self.layer2(out)\n",
        "      out = self.layer3(out)\n",
        "      out = self.layer4(out)\n",
        "      out = out.reshape(out.size(0), -1)\n",
        "      out = self.drop_out(out)\n",
        "      out = F.relu(self.fc1(out))\n",
        "      out = F.relu(self.fc2(out))\n",
        "      out = F.log_softmax(self.fc3(out))\n",
        "      return out"
      ],
      "execution_count": 4,
      "outputs": []
    },
    {
      "cell_type": "markdown",
      "metadata": {
        "id": "ZG_Ry2pcsaN6",
        "colab_type": "text"
      },
      "source": [
        "\n",
        "\n",
        "---\n",
        "\n",
        "\n",
        "**TRAIN & TEST FUNCTIONS**\n",
        "\n",
        "\n",
        "---\n",
        "\n"
      ]
    },
    {
      "cell_type": "code",
      "metadata": {
        "id": "SINaiOWASKVv",
        "colab_type": "code",
        "colab": {}
      },
      "source": [
        "def train( model, device, train_loader, optimizer, epoch, log_interval):\n",
        "    model.train()\n",
        "    for batch_idx, (data, target) in enumerate(train_loader):\n",
        "        data, target = data.to(device), target.to(device)\n",
        "        optimizer.zero_grad()\n",
        "        output = model(data)\n",
        "        loss = F.cross_entropy(output, target)\n",
        "        loss.backward()\n",
        "        optimizer.step()\n",
        "        if batch_idx % log_interval == 0:\n",
        "            print('Train Epoch: {} [{}/{} ({:.0f}%)]\\tLoss: {:.6f}'.format(\n",
        "                epoch, batch_idx * len(data), len(train_loader.dataset),\n",
        "                       100. * batch_idx / len(train_loader), loss.item()))"
      ],
      "execution_count": 5,
      "outputs": []
    },
    {
      "cell_type": "code",
      "metadata": {
        "id": "maZhsSOhW5CD",
        "colab_type": "code",
        "colab": {}
      },
      "source": [
        "def test( model, device, test_loader):\n",
        "    model.eval()\n",
        "    test_loss = 0\n",
        "    correct = 0\n",
        "    with torch.no_grad():\n",
        "        for data, target in test_loader:\n",
        "            data, target = data.to(device), target.to(device)\n",
        "            output = model(data)\n",
        "            test_loss += F.cross_entropy(output, target, reduction='sum').item()  # sum up batch loss\n",
        "            pred = output.argmax(dim=1, keepdim=True)  # get the index of the max log-probability\n",
        "            correct += pred.eq(target.view_as(pred)).sum().item()\n",
        "\n",
        "    test_loss /= len(test_loader.dataset)\n",
        "    return (100 * correct / len(test_loader.dataset))"
      ],
      "execution_count": 6,
      "outputs": []
    },
    {
      "cell_type": "markdown",
      "metadata": {
        "id": "KVQnZbDeshWj",
        "colab_type": "text"
      },
      "source": [
        "\n",
        "\n",
        "---\n",
        "\n",
        "\n",
        "**TRAINING & TESTING THE MODEL**\n",
        "\n",
        "---\n",
        "\n"
      ]
    },
    {
      "cell_type": "code",
      "metadata": {
        "id": "fnLGueNCW-hq",
        "colab_type": "code",
        "colab": {
          "base_uri": "https://localhost:8080/",
          "height": 583
        },
        "outputId": "03913044-a5ed-4a55-d051-628c787d58c1"
      },
      "source": [
        "use_cuda = torch.cuda.is_available()\n",
        "device = torch.device(\"cuda\" if use_cuda else \"cpu\")\n",
        "model_cnn = Net().to(device)\n",
        "model_cnn.apply(xavier_weights_init)\n",
        "\n",
        "epochs = 3\n",
        "lr = 0.001\n",
        "momentum = 0.9\n",
        "log_interval = 50\n",
        "\n",
        "model = model_cnn\n",
        "optimizer = optim.AdamW(model.parameters(), lr=lr)\n",
        "\n",
        "for epoch in range(1, epochs + 1):\n",
        "    train(model, device, trainset, optimizer, epoch, log_interval)"
      ],
      "execution_count": 7,
      "outputs": [
        {
          "output_type": "stream",
          "text": [
            "/usr/local/lib/python3.6/dist-packages/ipykernel_launcher.py:49: UserWarning: Implicit dimension choice for log_softmax has been deprecated. Change the call to include dim=X as an argument.\n"
          ],
          "name": "stderr"
        },
        {
          "output_type": "stream",
          "text": [
            "Train Epoch: 1 [0/30167 (0%)]\tLoss: 0.760410\n",
            "Train Epoch: 1 [3200/30167 (11%)]\tLoss: 0.030120\n",
            "Train Epoch: 1 [6400/30167 (21%)]\tLoss: 0.029681\n",
            "Train Epoch: 1 [9600/30167 (32%)]\tLoss: 0.095930\n",
            "Train Epoch: 1 [12800/30167 (42%)]\tLoss: 0.106001\n",
            "Train Epoch: 1 [16000/30167 (53%)]\tLoss: 0.014492\n",
            "Train Epoch: 1 [19200/30167 (64%)]\tLoss: 0.008184\n",
            "Train Epoch: 1 [22400/30167 (74%)]\tLoss: 0.002574\n",
            "Train Epoch: 1 [25600/30167 (85%)]\tLoss: 0.002033\n",
            "Train Epoch: 1 [28800/30167 (95%)]\tLoss: 0.002854\n",
            "Train Epoch: 2 [0/30167 (0%)]\tLoss: 0.003354\n",
            "Train Epoch: 2 [3200/30167 (11%)]\tLoss: 0.012114\n",
            "Train Epoch: 2 [6400/30167 (21%)]\tLoss: 0.002504\n",
            "Train Epoch: 2 [9600/30167 (32%)]\tLoss: 0.002300\n",
            "Train Epoch: 2 [12800/30167 (42%)]\tLoss: 0.016825\n",
            "Train Epoch: 2 [16000/30167 (53%)]\tLoss: 0.013409\n",
            "Train Epoch: 2 [19200/30167 (64%)]\tLoss: 0.034276\n",
            "Train Epoch: 2 [22400/30167 (74%)]\tLoss: 0.001993\n",
            "Train Epoch: 2 [25600/30167 (85%)]\tLoss: 0.007580\n",
            "Train Epoch: 2 [28800/30167 (95%)]\tLoss: 0.000845\n",
            "Train Epoch: 3 [0/30167 (0%)]\tLoss: 0.003415\n",
            "Train Epoch: 3 [3200/30167 (11%)]\tLoss: 0.004959\n",
            "Train Epoch: 3 [6400/30167 (21%)]\tLoss: 0.013327\n",
            "Train Epoch: 3 [9600/30167 (32%)]\tLoss: 0.000249\n",
            "Train Epoch: 3 [12800/30167 (42%)]\tLoss: 0.000991\n",
            "Train Epoch: 3 [16000/30167 (53%)]\tLoss: 0.002529\n",
            "Train Epoch: 3 [19200/30167 (64%)]\tLoss: 0.000827\n",
            "Train Epoch: 3 [22400/30167 (74%)]\tLoss: 0.001488\n",
            "Train Epoch: 3 [25600/30167 (85%)]\tLoss: 0.001319\n",
            "Train Epoch: 3 [28800/30167 (95%)]\tLoss: 0.013236\n"
          ],
          "name": "stdout"
        }
      ]
    },
    {
      "cell_type": "code",
      "metadata": {
        "id": "NgapOqiBISdI",
        "colab_type": "code",
        "colab": {
          "base_uri": "https://localhost:8080/",
          "height": 125
        },
        "outputId": "a7e95446-55d9-41f8-da76-d852c57ac45c"
      },
      "source": [
        "print('\\n1- Accuracy on train: {0:.2f}'.format(test(model, device, trainset)))\n",
        "print('\\n2- Accuracy on Validation: {0:.2f}'.format(test(model, device, valset)))"
      ],
      "execution_count": 12,
      "outputs": [
        {
          "output_type": "stream",
          "text": [
            "/usr/local/lib/python3.6/dist-packages/ipykernel_launcher.py:49: UserWarning: Implicit dimension choice for log_softmax has been deprecated. Change the call to include dim=X as an argument.\n"
          ],
          "name": "stderr"
        },
        {
          "output_type": "stream",
          "text": [
            "\n",
            "1- Accuracy on train: 99.78\n",
            "\n",
            "2- Accuracy on Validation: 99.63\n"
          ],
          "name": "stdout"
        }
      ]
    },
    {
      "cell_type": "markdown",
      "metadata": {
        "id": "ezfbXoErsqAU",
        "colab_type": "text"
      },
      "source": [
        "\n",
        "\n",
        "---\n",
        "\n",
        "\n",
        "**GENERATING PREDICTIONS**\n",
        "\n",
        "---\n",
        "\n"
      ]
    },
    {
      "cell_type": "code",
      "metadata": {
        "id": "-DFb98hkgFvB",
        "colab_type": "code",
        "colab": {}
      },
      "source": [
        "class ImageFolderWithPaths(datasets.ImageFolder):\n",
        "    \"\"\"Custom dataset that includes image file paths. Extends\n",
        "    torchvision.datasets.ImageFolder\n",
        "    \"\"\"\n",
        "    def __getitem__(self, index):\n",
        "        original_tuple = super(ImageFolderWithPaths, self).__getitem__(index)\n",
        "        path = self.imgs[index][0]\n",
        "        tuple_with_path = (original_tuple + (path,))\n",
        "        return tuple_with_path\n",
        "        \n",
        "\n",
        "def get_predictions(test_set):\n",
        "\n",
        "  y_true = []\n",
        "  y_pred = []\n",
        "  y_names = []\n",
        "\n",
        "  with torch.no_grad():\n",
        "    for inputs, labels, paths in test_set:\n",
        "      inputs, labels = inputs.to(device), labels.to(device)\n",
        "      outputs = model(inputs)\n",
        "      _, predicted = torch.max(outputs.data, 1)\n",
        "      y_pred.extend(predicted.tolist())\n",
        "      y_true.extend(labels.tolist())\n",
        "      y_names.extend([os.path.split(name)[1] for name in paths])\n",
        "\n",
        "  return y_true, y_pred, y_names\n",
        "\n",
        "\n",
        "def make_subfolder(test_path):\n",
        "\n",
        "  new_folder = os.path.join(test_path, 'test_images')\n",
        "\n",
        "  try:\n",
        "    os.mkdir(new_folder)  \n",
        "  except:\n",
        "    print('Path exists!') \n",
        "\n",
        "  ext = ['png', 'jpg', 'tiff']\n",
        "  files = []\n",
        "  [files.extend(glob.glob(test_path + '*.' + e)) for e in ext]\n",
        "\n",
        "  for file in files:\n",
        "      shutil.copy(file, new_folder)\n",
        "\n",
        "  return new_folder"
      ],
      "execution_count": 8,
      "outputs": []
    },
    {
      "cell_type": "markdown",
      "metadata": {
        "id": "SAvelDnJDRRU",
        "colab_type": "text"
      },
      "source": [
        "\n",
        "\n",
        "\n",
        "---\n",
        "\n",
        "\n",
        "**PRECISION, RECALL & F1 SCORE** (ON VALIDATION DATA)\n",
        "\n",
        "\n",
        "\n",
        "---\n",
        "\n",
        "\n"
      ]
    },
    {
      "cell_type": "code",
      "metadata": {
        "id": "jNZ84jrVC3Ao",
        "colab_type": "code",
        "colab": {
          "base_uri": "https://localhost:8080/",
          "height": 107
        },
        "outputId": "686be109-b938-4ab0-c8bf-f1033c5aa8f2"
      },
      "source": [
        "val_dataset = ImageFolderWithPaths('./Dataset', transform=transform)\n",
        "dataloader_test = torch.utils.data.DataLoader(val_dataset, batch_size=64, shuffle=True)\n",
        "\n",
        "y_true_val, y_pred_val, y_names_val = get_predictions(dataloader_test)\n",
        "\n",
        "print('<> Precision: %f' % precision_score(y_true_val, y_pred_val))\n",
        "print('<> Recall: %f' % recall_score(y_true_val, y_pred_val))\n",
        "print('<> F1 score: %f' % f1_score(y_true_val, y_pred_val))"
      ],
      "execution_count": 9,
      "outputs": [
        {
          "output_type": "stream",
          "text": [
            "/usr/local/lib/python3.6/dist-packages/ipykernel_launcher.py:49: UserWarning: Implicit dimension choice for log_softmax has been deprecated. Change the call to include dim=X as an argument.\n"
          ],
          "name": "stderr"
        },
        {
          "output_type": "stream",
          "text": [
            "<> Precision: 0.997301\n",
            "<> Recall: 0.997195\n",
            "<> F1 score: 0.997248\n"
          ],
          "name": "stdout"
        }
      ]
    },
    {
      "cell_type": "markdown",
      "metadata": {
        "id": "umz8MiRPsx6F",
        "colab_type": "text"
      },
      "source": [
        "\n",
        "\n",
        "---\n",
        "\n",
        "\n",
        "**PREDICTIONS USING TEST DATA**\n",
        "\n",
        "---\n",
        "\n",
        "\n",
        "\n"
      ]
    },
    {
      "cell_type": "code",
      "metadata": {
        "id": "OISlD0TYQjk2",
        "colab_type": "code",
        "colab": {
          "base_uri": "https://localhost:8080/",
          "height": 55
        },
        "outputId": "00ab30c7-1478-43cf-f258-ed169fd05981"
      },
      "source": [
        "TEST_DATA_PATH = \"/content/test_data/\"\n",
        "\n",
        "\n",
        "test_dataset = ImageFolderWithPaths(TEST_DATA_PATH, transform=transform)\n",
        "dataloader_test = torch.utils.data.DataLoader(test_dataset, batch_size=64, shuffle=True)\n",
        "\n",
        "_none_test, y_pred_test, y_names_test = get_predictions(dataloader_test)"
      ],
      "execution_count": 13,
      "outputs": [
        {
          "output_type": "stream",
          "text": [
            "/usr/local/lib/python3.6/dist-packages/ipykernel_launcher.py:49: UserWarning: Implicit dimension choice for log_softmax has been deprecated. Change the call to include dim=X as an argument.\n"
          ],
          "name": "stderr"
        }
      ]
    },
    {
      "cell_type": "markdown",
      "metadata": {
        "id": "EFvE7ri-s_KL",
        "colab_type": "text"
      },
      "source": [
        "\n",
        "\n",
        "---\n",
        "\n",
        "\n",
        "**SAVING MODEL & PREDICTIONS**\n",
        "\n",
        "---\n",
        "\n"
      ]
    },
    {
      "cell_type": "code",
      "metadata": {
        "id": "ZBT5W-D6WU2q",
        "colab_type": "code",
        "colab": {
          "base_uri": "https://localhost:8080/",
          "height": 35
        },
        "outputId": "c222dab4-a37b-471c-a4ed-cd0d4eb14108"
      },
      "source": [
        "torch.save(model, 'model.pth')\n",
        "\n",
        "y_names_test = np.array(y_names_test)\n",
        "y_pred_test = np.array(y_pred_test)\n",
        "\n",
        "df = pd.DataFrame({\"file\" : y_names_test, \"label\" : y_pred_test})\n",
        "df.to_csv(\"output.csv\", index=False)\n",
        "print(\"Predictions stored in 'output.csv'!\")"
      ],
      "execution_count": 14,
      "outputs": [
        {
          "output_type": "stream",
          "text": [
            "Predictions stored in 'output.csv'!\n"
          ],
          "name": "stdout"
        }
      ]
    }
  ]
}